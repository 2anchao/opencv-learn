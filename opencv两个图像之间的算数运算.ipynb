{
 "cells": [
  {
   "cell_type": "code",
   "execution_count": 1,
   "metadata": {},
   "outputs": [],
   "source": [
    "import cv2\n",
    "import numpy as np"
   ]
  },
  {
   "cell_type": "code",
   "execution_count": 2,
   "metadata": {},
   "outputs": [
    {
     "name": "stdout",
     "output_type": "stream",
     "text": [
      "6\n",
      "[2, 3, 4, 5]\n"
     ]
    }
   ],
   "source": [
    "list_1=[1,2,3,4,5,6]\n",
    "print(len(list_1))\n",
    "print(list_1[1:5])"
   ]
  },
  {
   "cell_type": "code",
   "execution_count": 2,
   "metadata": {},
   "outputs": [
    {
     "name": "stdout",
     "output_type": "stream",
     "text": [
      "(450, 300)\n",
      "(450, 300)\n",
      "[[146.80752593]\n",
      " [148.01305926]\n",
      " [161.00182222]] [[167.57268148]\n",
      " [169.58460741]\n",
      " [207.75054074]]\n",
      "[[88.31993872]\n",
      " [91.1136278 ]\n",
      " [92.19690208]] [[61.08028007]\n",
      " [59.3817565 ]\n",
      " [54.54570289]]\n"
     ]
    }
   ],
   "source": [
    "img1=cv2.imread(\"anchao.jpg\")\n",
    "img2=cv2.imread(\"small_girl.jpg\")\n",
    "def photo_operate(img1,img2):\n",
    "    print(img1.shape[:2])\n",
    "    print(img2.shape[:2])\n",
    "    add_img=cv2.add(img1,img2)\n",
    "    cv2.imshow(\"add_img\",add_img)\n",
    "    substract_img=cv2.subtract(img1,img2)\n",
    "    cv2.imshow(\"substract_img\",substract_img)\n",
    "    divide_img=cv2.divide(img1,img2)\n",
    "    cv2.imshow(\"divide_img\",divide_img)\n",
    "    multiply_img=cv2.multiply(img1,img2)\n",
    "    cv2.imshow(\"multiply_img\",multiply_img)\n",
    "    img1_mean,img1_StdDev=cv2.meanStdDev(img1)#mean是像素均值，standard deviation是标准差的意思，variance是方差的意思\n",
    "    img2_mean,img2_StdDev=cv2.meanStdDev(img2)#图像的均差反映了图像像素之间的对比度\n",
    "    print(img1_mean,img2_mean)\n",
    "    print(img1_StdDev,img2_StdDev)\n",
    "    if cv2.waitKey()==27:\n",
    "        cv2.destroyAllWindows()\n",
    "\n",
    "photo_operate(img1,img2)\n"
   ]
  },
  {
   "cell_type": "code",
   "execution_count": null,
   "metadata": {},
   "outputs": [],
   "source": []
  }
 ],
 "metadata": {
  "kernelspec": {
   "display_name": "Python 3",
   "language": "python",
   "name": "python3"
  },
  "language_info": {
   "codemirror_mode": {
    "name": "ipython",
    "version": 3
   },
   "file_extension": ".py",
   "mimetype": "text/x-python",
   "name": "python",
   "nbconvert_exporter": "python",
   "pygments_lexer": "ipython3",
   "version": "3.5.5"
  }
 },
 "nbformat": 4,
 "nbformat_minor": 2
}
