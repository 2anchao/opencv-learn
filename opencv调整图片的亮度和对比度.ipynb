{
 "cells": [
  {
   "cell_type": "code",
   "execution_count": 5,
   "metadata": {},
   "outputs": [],
   "source": [
    "import cv2\n",
    "import numpy as np"
   ]
  },
  {
   "cell_type": "code",
   "execution_count": 12,
   "metadata": {},
   "outputs": [
    {
     "name": "stdout",
     "output_type": "stream",
     "text": [
      "(733, 514, 3)\n"
     ]
    }
   ],
   "source": [
    "img=cv2.imread(\"girl.jpg\")\n",
    "print(img.shape)\n",
    "def contrast_brightness_change(img,c,b):#c就是对比度。b就是亮度\n",
    "    #先创建一个黑漆漆的图片。像素都是0\n",
    "    cv2.imshow(\"original\",img)\n",
    "    black=np.zeros(img.shape,img.dtype)\n",
    "    cv2.imshow(\"black\",black)\n",
    "    dst=cv2.addWeighted(img,c,black,1-c,b)\n",
    "    cv2.imshow(\"contrast_brightness_change\",dst)\n",
    "    cv2.waitKey(0)\n",
    "    cv2.destroyAllWindows()\n",
    "contrast_brightness_change(img,1.2,100)"
   ]
  },
  {
   "cell_type": "code",
   "execution_count": null,
   "metadata": {},
   "outputs": [],
   "source": []
  }
 ],
 "metadata": {
  "kernelspec": {
   "display_name": "Python 3",
   "language": "python",
   "name": "python3"
  },
  "language_info": {
   "codemirror_mode": {
    "name": "ipython",
    "version": 3
   },
   "file_extension": ".py",
   "mimetype": "text/x-python",
   "name": "python",
   "nbconvert_exporter": "python",
   "pygments_lexer": "ipython3",
   "version": "3.5.5"
  }
 },
 "nbformat": 4,
 "nbformat_minor": 2
}
