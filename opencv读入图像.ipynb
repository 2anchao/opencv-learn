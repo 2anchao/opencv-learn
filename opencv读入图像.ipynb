{
 "cells": [
  {
   "cell_type": "code",
   "execution_count": 1,
   "metadata": {},
   "outputs": [],
   "source": [
    "import cv2\n",
    "import numpy as np"
   ]
  },
  {
   "cell_type": "code",
   "execution_count": 6,
   "metadata": {},
   "outputs": [
    {
     "name": "stdout",
     "output_type": "stream",
     "text": [
      "(733, 514, 3)\n",
      "uint8\n",
      "1130286\n",
      "image width is:733,image height is:514,image channels is:3\n",
      "waste time is:2358.217364468146\n"
     ]
    }
   ],
   "source": [
    "\n",
    "def info_image(img):\n",
    "    print(img.shape)\n",
    "    print(img.dtype)\n",
    "    print(img.size)\n",
    "\n",
    "def change_pixels(img):\n",
    "    height=img.shape[0]\n",
    "    width=img.shape[1]\n",
    "    channels=img.shape[2]\n",
    "    print(\"image width is:%s,image height is:%s,image channels is:%s\"%(height,width,channels))\n",
    "    for row in range(height):\n",
    "        for col in range(width):#col表示column\n",
    "            for channel in range(channels):\n",
    "                per_pixel=img[row,col,channel]\n",
    "                img[row,col,channel]=255-per_pixel\n",
    "    cv2.imshow(\"change girl!\",img)\n",
    "\n",
    "def video_open():\n",
    "    capture=cv2.VideoCapture(0)\n",
    "    while True:\n",
    "        ret,frame=capture.read()\n",
    "        frame=cv2.flip(frame,1)\n",
    "        cv2.imshow(\"video\",frame)\n",
    "        if cv2.waitKey(50)==27:\n",
    "            break\n",
    "    \n",
    "\n",
    "img=cv2.imread(\"girl.jpg\")\n",
    "cv2.imshow(\"beautiful girl!\",img)\n",
    "info_image(img)\n",
    "t1=cv2.getTickCount()/cv2.getTickFrequency()#getTickCount()是得到总的传输帧数\n",
    "img_change=change_pixels(img)\n",
    "t2=cv2.getTickCount()/cv2.getTickFrequency()#getTickFrequency()是得到每秒的传输帧数\n",
    "print(\"waste time is:\"+str((t2-t1)*1000))\n",
    "video_open()\n",
    "cv2.imwrite(\"change girl.jpg\",img_change)\n",
    "if cv2.waitKey()==27:\n",
    "    cv2.destroyAllWindows()\n"
   ]
  },
  {
   "cell_type": "code",
   "execution_count": 2,
   "metadata": {},
   "outputs": [],
   "source": [
    "def create_image():\n",
    "    img=np.zeros([415,300,3],np.uint8)#opencv读入图像的通道顺序是BGR\n",
    "    img[ :, :, 0]=np.ones([415,300])*255\n",
    "    cv2.imshow(\"create_img\",img)\n",
    "    \n",
    "    if cv2.waitKey()==27:\n",
    "        cv2.destroyAllWindows()\n",
    "        \n",
    "create_image()\n",
    "    "
   ]
  },
  {
   "cell_type": "code",
   "execution_count": null,
   "metadata": {},
   "outputs": [],
   "source": []
  }
 ],
 "metadata": {
  "kernelspec": {
   "display_name": "Python 3",
   "language": "python",
   "name": "python3"
  },
  "language_info": {
   "codemirror_mode": {
    "name": "ipython",
    "version": 3
   },
   "file_extension": ".py",
   "mimetype": "text/x-python",
   "name": "python",
   "nbconvert_exporter": "python",
   "pygments_lexer": "ipython3",
   "version": "3.5.5"
  }
 },
 "nbformat": 4,
 "nbformat_minor": 2
}
