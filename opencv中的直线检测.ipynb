{
 "cells": [
  {
   "cell_type": "code",
   "execution_count": 2,
   "metadata": {},
   "outputs": [],
   "source": [
    "import cv2\n",
    "import numpy as np"
   ]
  },
  {
   "cell_type": "code",
   "execution_count": 10,
   "metadata": {},
   "outputs": [],
   "source": [
    "img=cv2.imread(\"girl.jpg\")\n",
    "cv2.imshow(\"original_image\",img)\n",
    "def line_detection(image):\n",
    "    gray=cv2.cvtColor(image,cv2.COLOR_BGR2GRAY)\n",
    "    edge=cv2.Canny(gray,50,150,apertureSize=3)\n",
    "    lines=cv2.HoughLinesP(edge,1,np.pi/180,100)#minLineLength=50, maxLineGap=10\n",
    "    for line in lines:\n",
    "        x1,y1,x2,y2=line[0]\n",
    "        cv2.line(image,(x1,y1),(x2,y2),(0,0,255),2)\n",
    "    cv2.imshow(\"line_detection\",image)\n",
    "\n",
    "line_detection(img)\n",
    "if cv2.waitKey()==27:\n",
    "    cv2.destroyAllWindows()\n",
    "    "
   ]
  },
  {
   "cell_type": "code",
   "execution_count": null,
   "metadata": {},
   "outputs": [],
   "source": []
  }
 ],
 "metadata": {
  "kernelspec": {
   "display_name": "Python 3",
   "language": "python",
   "name": "python3"
  },
  "language_info": {
   "codemirror_mode": {
    "name": "ipython",
    "version": 3
   },
   "file_extension": ".py",
   "mimetype": "text/x-python",
   "name": "python",
   "nbconvert_exporter": "python",
   "pygments_lexer": "ipython3",
   "version": "3.5.5"
  }
 },
 "nbformat": 4,
 "nbformat_minor": 2
}
