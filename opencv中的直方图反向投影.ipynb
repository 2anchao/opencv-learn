{
 "cells": [
  {
   "cell_type": "code",
   "execution_count": 1,
   "metadata": {},
   "outputs": [],
   "source": [
    "import cv2\n",
    "import numpy as np\n",
    "import matplotlib.pyplot as plt\n",
    "import PIL"
   ]
  },
  {
   "cell_type": "code",
   "execution_count": 2,
   "metadata": {},
   "outputs": [
    {
     "data": {
      "image/png": "[encoded data removed]",
      "text/plain": [
       "<Figure size 432x288 with 1 Axes>"
      ]
     },
     "metadata": {},
     "output_type": "display_data"
    }
   ],
   "source": [
    "#画一个二维的直方图\n",
    "img=cv2.imread(\"girl.jpg\")\n",
    "def creat_histogram_2d(image):\n",
    "    hsv=cv2.cvtColor(image,cv2.COLOR_BGR2HSV)\n",
    "    hist=cv2.calcHist([hsv],[0,1],None,[181,256],[0,181,0,256])\n",
    "    plt.imshow(hist,interpolation=\"nearest\")\n",
    "    plt.title(\"histogram_2d\")\n",
    "    plt.show()\n",
    "\n",
    "creat_histogram_2d(img)"
   ]
  },
  {
   "cell_type": "code",
   "execution_count": 6,
   "metadata": {},
   "outputs": [],
   "source": [
    "#反向投影，寻找两个图相近的部分\n",
    "def back_projection_demo():\n",
    "    sample=cv2.imread(\"sample.jpg\")\n",
    "    target=cv2.imread(\"girl.jpg\")\n",
    "    \n",
    "    roi_hsv=cv2.cvtColor(sample,cv2.COLOR_RGB2HSV)\n",
    "    target_hsv=cv2.cvtColor(target,cv2.COLOR_RGB2HSV)\n",
    "    \n",
    "    roi_hist=cv2.calcHist([roi_hsv],[0,1],None,[36,48],[0,180,0,256])\n",
    "    \n",
    "    cv2.normalize(roi_hist,roi_hist,0,255,cv2.NORM_MINMAX)\n",
    "    \n",
    "    dst=cv2.calcBackProject([target_hsv],[0,1],roi_hist,[0,180,0,256],1)\n",
    "    \n",
    "    cv2.imshow(\"back_projection_demo\",dst)\n",
    "    if cv2.waitKey()==27:\n",
    "        cv2.destroyAllWindows()\n",
    "\n",
    "back_projection_demo()"
   ]
  },
  {
   "cell_type": "code",
   "execution_count": null,
   "metadata": {},
   "outputs": [],
   "source": []
  },
  {
   "cell_type": "code",
   "execution_count": null,
   "metadata": {},
   "outputs": [],
   "source": []
  },
  {
   "cell_type": "code",
   "execution_count": null,
   "metadata": {},
   "outputs": [],
   "source": []
  },
  {
   "cell_type": "code",
   "execution_count": null,
   "metadata": {},
   "outputs": [],
   "source": []
  }
 ],
 "metadata": {
  "kernelspec": {
   "display_name": "Python 3",
   "language": "python",
   "name": "python3"
  },
  "language_info": {
   "codemirror_mode": {
    "name": "ipython",
    "version": 3
   },
   "file_extension": ".py",
   "mimetype": "text/x-python",
   "name": "python",
   "nbconvert_exporter": "python",
   "pygments_lexer": "ipython3",
   "version": "3.5.5"
  }
 },
 "nbformat": 4,
 "nbformat_minor": 2
}
