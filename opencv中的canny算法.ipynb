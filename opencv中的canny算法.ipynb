{
 "cells": [
  {
   "cell_type": "code",
   "execution_count": 1,
   "metadata": {},
   "outputs": [],
   "source": [
    "import cv2"
   ]
  },
  {
   "cell_type": "code",
   "execution_count": 6,
   "metadata": {},
   "outputs": [],
   "source": [
    "#五步：高斯模糊》》》灰度转化》》》计算梯度》》》非最大信号抑制》》》高低阈值输出二值图像\n",
    "img=cv2.imread(\"girl.jpg\")\n",
    "def canny_demo(image):\n",
    "    src=cv2.GaussianBlur(image,(3,3),1)\n",
    "    gray=cv2.cvtColor(src,cv2.COLOR_BGR2HSV)\n",
    "    gray_x=cv2.Sobel(gray,cv2.CV_16SC1,1,0)\n",
    "    gray_y=cv2.Sobel(gray,cv2.CV_16SC1,0,1)\n",
    "    edge_output0=cv2.Canny(gray_x,gray_y,50,150)\n",
    "    edge_output=cv2.Canny(gray,50,150)\n",
    "    cv2.imshow(\"edge_output0\",edge_output0)\n",
    "    cv2.imshow(\"edge_output\",edge_output)\n",
    "\n",
    "canny_demo(img)        \n",
    "if cv2.waitKey()==27:\n",
    "    cv2.destroyAllWindows()"
   ]
  },
  {
   "cell_type": "code",
   "execution_count": null,
   "metadata": {},
   "outputs": [],
   "source": []
  }
 ],
 "metadata": {
  "kernelspec": {
   "display_name": "Python 3",
   "language": "python",
   "name": "python3"
  },
  "language_info": {
   "codemirror_mode": {
    "name": "ipython",
    "version": 3
   },
   "file_extension": ".py",
   "mimetype": "text/x-python",
   "name": "python",
   "nbconvert_exporter": "python",
   "pygments_lexer": "ipython3",
   "version": "3.5.5"
  }
 },
 "nbformat": 4,
 "nbformat_minor": 2
}
