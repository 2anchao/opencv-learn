{
 "cells": [
  {
   "cell_type": "code",
   "execution_count": 1,
   "metadata": {},
   "outputs": [],
   "source": [
    "import cv2\n",
    "import numpy as np\n",
    "#EPF 很重要，边缘保留滤波中最常见的两种方法是高斯双边模糊,和均值迁移。"
   ]
  },
  {
   "cell_type": "code",
   "execution_count": 5,
   "metadata": {},
   "outputs": [],
   "source": [
    "img=cv2.imread(\"girl.jpg\")\n",
    "def edge_preserve_filter(img):\n",
    "    dst=cv2.bilateralFilter(img,0,100,15)\n",
    "    cv2.imshow(\"original\",img)\n",
    "    cv2.imshow(\"bilateralFilter_img\",dst)\n",
    "    if cv2.waitKey()==27:\n",
    "        cv2.destroyAllWindows()\n",
    "\n",
    "def edge_preserve_filter_method2(img):\n",
    "    dst=cv2.pyrMeanShiftFiltering(img,50,15)\n",
    "    cv2.imshow(\"original\",img)\n",
    "    cv2.imshow(\"edge_preserve_filter_method2\",dst)\n",
    "    if cv2.waitKey()==27:\n",
    "        cv2.destroyAllWindows()    \n",
    "        \n",
    "        \n",
    "edge_preserve_filter_method2(img)"
   ]
  },
  {
   "cell_type": "code",
   "execution_count": null,
   "metadata": {},
   "outputs": [],
   "source": []
  }
 ],
 "metadata": {
  "kernelspec": {
   "display_name": "Python 3",
   "language": "python",
   "name": "python3"
  },
  "language_info": {
   "codemirror_mode": {
    "name": "ipython",
    "version": 3
   },
   "file_extension": ".py",
   "mimetype": "text/x-python",
   "name": "python",
   "nbconvert_exporter": "python",
   "pygments_lexer": "ipython3",
   "version": "3.5.5"
  }
 },
 "nbformat": 4,
 "nbformat_minor": 2
}
