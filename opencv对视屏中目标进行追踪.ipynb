{
 "cells": [
  {
   "cell_type": "code",
   "execution_count": 1,
   "metadata": {},
   "outputs": [],
   "source": [
    "import cv2\n",
    "import numpy as np\n",
    "#cv2中的inrange函数十分重要"
   ]
  },
  {
   "cell_type": "code",
   "execution_count": 5,
   "metadata": {},
   "outputs": [],
   "source": [
    "def extract_object(path):\n",
    "    capture=cv2.VideoCapture(path)\n",
    "    while True:\n",
    "        ret,frame=capture.read()\n",
    "        change_to_hsv=cv2.cvtColor(frame,cv2.COLOR_BGR2HSV)\n",
    "        if ret==False:\n",
    "            break\n",
    "        lower_hsv=np.array([26,43,46])\n",
    "        upper_hsv=np.array([34,255,255])\n",
    "        mask1=cv2.inRange(change_to_hsv,lowerb=lower_hsv, upperb=upper_hsv)#得到了一个二值图像\n",
    "        dst=cv2.bitwise_and(frame,frame,mask=mask1)\n",
    "        cv2.imshow(\"video\",dst)\n",
    "        if cv2.waitKey(40)==27:\n",
    "            cv2.destroyAllWindows()\n",
    "            break\n",
    "path=\"fire_d.mp4\"\n",
    "extract_object(path)\n"
   ]
  },
  {
   "cell_type": "code",
   "execution_count": null,
   "metadata": {},
   "outputs": [],
   "source": []
  }
 ],
 "metadata": {
  "kernelspec": {
   "display_name": "Python 3",
   "language": "python",
   "name": "python3"
  },
  "language_info": {
   "codemirror_mode": {
    "name": "ipython",
    "version": 3
   },
   "file_extension": ".py",
   "mimetype": "text/x-python",
   "name": "python",
   "nbconvert_exporter": "python",
   "pygments_lexer": "ipython3",
   "version": "3.5.5"
  }
 },
 "nbformat": 4,
 "nbformat_minor": 2
}
