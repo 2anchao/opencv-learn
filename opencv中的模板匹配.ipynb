{
 "cells": [
  {
   "cell_type": "code",
   "execution_count": 1,
   "metadata": {},
   "outputs": [],
   "source": [
    "import cv2\n",
    "import numpy as np\n"
   ]
  },
  {
   "cell_type": "code",
   "execution_count": 7,
   "metadata": {},
   "outputs": [],
   "source": [
    "template=cv2.imread(\"sample.jpg\")\n",
    "target=cv2.imread(\"girl.jpg\")\n",
    "def template_match(img1,img2):\n",
    "    cv2.namedWindow(\"template\",cv2.WINDOW_AUTOSIZE)\n",
    "    cv2.imshow(\"template\",img1)\n",
    "    methods=[cv2.TM_CCOEFF_NORMED,cv2.TM_SQDIFF_NORMED]\n",
    "    th,tw=img1.shape[:2]\n",
    "    for md in methods:\n",
    "        result= cv2.matchTemplate(img2,img1,md)\n",
    "        minval,maxval,minloc,maxloc=cv2.minMaxLoc(result)\n",
    "        if md==cv2.TM_SQDIFF_NORMED:\n",
    "            t1=minloc\n",
    "        else:\n",
    "            t1=maxloc#t1是左上角的坐标\n",
    "        br=(t1[0]+tw,t1[1]+th)#长和宽\n",
    "        cv2.rectangle(img2,t1,br,(0,0,255),1)\n",
    "        cv2.imshow(\"img2\",img2)\n",
    "        if cv2.waitKey()==27:\n",
    "            cv2.destroyAllWindows()\n",
    "template_match(template,target)"
   ]
  },
  {
   "cell_type": "code",
   "execution_count": null,
   "metadata": {},
   "outputs": [],
   "source": []
  }
 ],
 "metadata": {
  "kernelspec": {
   "display_name": "Python 3",
   "language": "python",
   "name": "python3"
  },
  "language_info": {
   "codemirror_mode": {
    "name": "ipython",
    "version": 3
   },
   "file_extension": ".py",
   "mimetype": "text/x-python",
   "name": "python",
   "nbconvert_exporter": "python",
   "pygments_lexer": "ipython3",
   "version": "3.5.5"
  }
 },
 "nbformat": 4,
 "nbformat_minor": 2
}
