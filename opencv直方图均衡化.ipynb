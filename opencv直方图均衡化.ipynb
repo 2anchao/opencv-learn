{
 "cells": [
  {
   "cell_type": "code",
   "execution_count": 3,
   "metadata": {},
   "outputs": [],
   "source": [
    "import cv2\n",
    "import numpy as np"
   ]
  },
  {
   "cell_type": "code",
   "execution_count": 4,
   "metadata": {},
   "outputs": [],
   "source": [
    "img=cv2.imread(\"girl.jpg\")\n",
    "def equal_histogram(img):#全局直方图均衡化要求图片是灰度图像，作用是图像增强，自适应的提升对比度\n",
    "    gray=cv2.cvtColor(img,cv2.COLOR_BGR2GRAY)\n",
    "    dst=cv2.equalizeHist(gray)\n",
    "    cv2.imshow(\"gray\",gray)\n",
    "    cv2.imshow(\"equal_histogram\",dst)\n",
    "    if cv2.waitKey()==27:\n",
    "        cv2.destroyAllWindows()\n",
    "#equal_histogram(img)"
   ]
  },
  {
   "cell_type": "code",
   "execution_count": 8,
   "metadata": {},
   "outputs": [],
   "source": [
    "def clahe_demo(img):#这是局部自适应的灰度直方图均衡化的方法\n",
    "    clahe=cv2.createCLAHE(40,(8,8))\n",
    "    gray=cv2.cvtColor(img,cv2.COLOR_BGR2GRAY)\n",
    "    clahe_img=clahe.apply(gray)\n",
    "    cv2.imshow(\"clahe_img\",clahe_img)\n",
    "    if cv2.waitKey()==27:\n",
    "        cv2.destroyAllWindows()\n",
    "clahe_demo(img)"
   ]
  },
  {
   "cell_type": "code",
   "execution_count": null,
   "metadata": {},
   "outputs": [],
   "source": []
  }
 ],
 "metadata": {
  "kernelspec": {
   "display_name": "Python 3",
   "language": "python",
   "name": "python3"
  },
  "language_info": {
   "codemirror_mode": {
    "name": "ipython",
    "version": 3
   },
   "file_extension": ".py",
   "mimetype": "text/x-python",
   "name": "python",
   "nbconvert_exporter": "python",
   "pygments_lexer": "ipython3",
   "version": "3.5.5"
  }
 },
 "nbformat": 4,
 "nbformat_minor": 2
}
