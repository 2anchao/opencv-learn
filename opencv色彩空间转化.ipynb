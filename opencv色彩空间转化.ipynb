{
 "cells": [
  {
   "cell_type": "code",
   "execution_count": 1,
   "metadata": {},
   "outputs": [],
   "source": [
    "import cv2"
   ]
  },
  {
   "cell_type": "code",
   "execution_count": 2,
   "metadata": {},
   "outputs": [],
   "source": [
    "def change_color_space(img):\n",
    "    Gray=cv2.cvtColor(img,cv2.COLOR_BGR2GRAY)\n",
    "    cv2.imshow(\"Gray\",Gray)\n",
    "    Hsv=cv2.cvtColor(img,cv2.COLOR_BGR2HSV)\n",
    "    cv2.imshow(\"Hsv\",Hsv)\n",
    "    YCrCb=cv2.cvtColor(img,cv2.COLOR_BGR2YCrCb)\n",
    "    cv2.imshow(\"YCrCb\",YCrCb)\n",
    "    Yuv=cv2.cvtColor(img,cv2.COLOR_BGR2YUV)\n",
    "    cv2.imshow(\"Yuv\",Yuv)\n",
    "\n",
    "\n",
    "src=cv2.imread(\"girl.jpg\")\n",
    "cv2.imshow(\"original\",src)\n",
    "change_color_space(src)\n",
    "if cv2.waitKey()==27:\n",
    "    cv2.destroyAllWindows()"
   ]
  },
  {
   "cell_type": "code",
   "execution_count": null,
   "metadata": {},
   "outputs": [],
   "source": []
  }
 ],
 "metadata": {
  "kernelspec": {
   "display_name": "Python 3",
   "language": "python",
   "name": "python3"
  },
  "language_info": {
   "codemirror_mode": {
    "name": "ipython",
    "version": 3
   },
   "file_extension": ".py",
   "mimetype": "text/x-python",
   "name": "python",
   "nbconvert_exporter": "python",
   "pygments_lexer": "ipython3",
   "version": "3.5.5"
  }
 },
 "nbformat": 4,
 "nbformat_minor": 2
}
