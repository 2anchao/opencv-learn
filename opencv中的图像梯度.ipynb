{
 "cells": [
  {
   "cell_type": "code",
   "execution_count": 1,
   "metadata": {},
   "outputs": [],
   "source": [
    "import cv2"
   ]
  },
  {
   "cell_type": "code",
   "execution_count": 6,
   "metadata": {},
   "outputs": [],
   "source": [
    "img=cv2.imread(\"girl.jpg\")\n",
    "def sobel_demo(image):\n",
    "    grad_y=cv2.Sobel(image,cv2.CV_32F,0,1)#Scharr算子是sobel算子的增强版\n",
    "    grad_x=cv2.Sobel(image,cv2.CV_32F,1,0)\n",
    "    gradx=cv2.convertScaleAbs(grad_x)\n",
    "    grady=cv2.convertScaleAbs(grad_y)\n",
    "    cv2.imshow(\"gradient_x\",gradx)\n",
    "    cv2.imshow(\"gradient_y\",grady)\n",
    "    grad=cv2.addWeighted(gradx,0.5,grady,0.5,0)\n",
    "    cv2.imshow(\"gradient\",grad)\n",
    "\n",
    "def lapalians_demo(image):\n",
    "    dst=cv2.Laplacian(image,cv2.CV_32F)#可以用np.array定义一个kernel，然后用cv2.filter2D，达到一样的效果\n",
    "    lpls=cv2.convertScaleAbs(dst)\n",
    "    cv2.imshow(\"lapalians\",lpls)\n",
    "\n",
    "    \n",
    "lapalians_demo(img)    \n",
    "if cv2.waitKey()==27:\n",
    "    cv2.destroyAllWindows()"
   ]
  },
  {
   "cell_type": "code",
   "execution_count": null,
   "metadata": {},
   "outputs": [],
   "source": []
  }
 ],
 "metadata": {
  "kernelspec": {
   "display_name": "Python 3",
   "language": "python",
   "name": "python3"
  },
  "language_info": {
   "codemirror_mode": {
    "name": "ipython",
    "version": 3
   },
   "file_extension": ".py",
   "mimetype": "text/x-python",
   "name": "python",
   "nbconvert_exporter": "python",
   "pygments_lexer": "ipython3",
   "version": "3.5.5"
  }
 },
 "nbformat": 4,
 "nbformat_minor": 2
}
