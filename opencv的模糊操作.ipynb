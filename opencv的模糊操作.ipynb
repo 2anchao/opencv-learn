{
 "cells": [
  {
   "cell_type": "code",
   "execution_count": 2,
   "metadata": {},
   "outputs": [],
   "source": [
    "import cv2\n",
    "import numpy as np"
   ]
  },
  {
   "cell_type": "code",
   "execution_count": 5,
   "metadata": {},
   "outputs": [
    {
     "name": "stdout",
     "output_type": "stream",
     "text": [
      "time(ms) is : 40536604\n"
     ]
    },
    {
     "data": {
      "text/plain": [
       "'medium_blur(img)\\ncustom_blur(img)\\nif cv2.waitKey()==27:\\n    cv2.destroyAllWindows() '"
      ]
     },
     "execution_count": 5,
     "metadata": {},
     "output_type": "execute_result"
    }
   ],
   "source": [
    "#均值模糊对随机噪声有一定的去噪效果\n",
    "#中值模糊对椒盐噪声有一定的去噪效果\n",
    "\n",
    "img=cv2.imread(\"girl.jpg\")\n",
    "def blur(img):\n",
    "    img_blur=cv2.blur(img,(3,3))\n",
    "    cv2.namedWindow(\"img_blur\",cv2.WINDOW_AUTOSIZE)\n",
    "    cv2.imshow(\"img_blur\",img_blur)\n",
    "    if cv2.waitKey()==27:\n",
    "        cv2.destroyAllWindows()\n",
    "def medium_blur(img):\n",
    "    medium_blur=cv2.medianBlur(img,5)\n",
    "    cv2.imshow(\"medium_blur\",medium_blur)\n",
    "    if cv2.waitKey()==27:\n",
    "        cv2.destroyAllWindows()\n",
    "def custom_blur(img):\n",
    "    kernel=np.array([[0,-1,0],[-1,5,-1],[0,-1,0]],np.float32)#锐化算子\n",
    "    #kernel=np.array([[1,-1,1],[-1,1,-1],[1,-1,1]],np.float32)#kernal的总和等一1一般做的都是增强，总和等于0一般都是做边缘\n",
    "    dst=cv2.filter2D(img,-1,kernel=kernel)\n",
    "    cv2.imshow(\"custom_blur\",dst)\n",
    "    if cv2.waitKey()==27:\n",
    "        cv2.destroyAllWindows()\n",
    "        \n",
    "def control_noise(s):\n",
    "    if s>255:\n",
    "        return 255\n",
    "    if s<0:\n",
    "        return 0\n",
    "    else:\n",
    "        return s\n",
    "    \n",
    "\"\"\"def gaussian_noise(img):#给图像加上高斯噪声\n",
    "    h,w,ch=img.shape\n",
    "    for row in range(h):\n",
    "        for col in range(w):\n",
    "            for channel in range(ch):\n",
    "                random=np.random.normal(0,100,17)\n",
    "                per_pixel=img[row,col,channel]\n",
    "                per_pixel=control_noise(per_pixel+random[channel])\n",
    "    cv2.imshow(\"add_gaussian_noise\",img)\n",
    "    if cv2.waitKey()==27:\n",
    "        cv2.destroyAllWindows()\"\"\"\n",
    "    \n",
    "    \n",
    "\n",
    "def gaussian_noise(img):#给图像加上高斯噪声\n",
    "    h,w,ch=img.shape\n",
    "    for row in range(h):\n",
    "        for col in range(w):\n",
    "            random=np.random.normal(0,20,3)\n",
    "            b=img[row,col,0]\n",
    "            g=img[row,col,1]\n",
    "            r=img[row,col,2]\n",
    "            img[row,col,0]=control_noise(b+random[0])\n",
    "            img[row,col,1]=control_noise(g+random[1])\n",
    "            img[row,col,2]=control_noise(r+random[2])\n",
    "\n",
    "    cv2.imshow(\"add_gaussian_noise\",img)\n",
    "    dst=cv2.GaussianBlur(img,(0,0),15)\n",
    "    cv2.imshow(\"GaussianBlur\",dst)\n",
    "    if cv2.waitKey()==27:\n",
    "        cv2.destroyAllWindows()    \n",
    "    \n",
    "#cv2.imshow(\"original\",img)\n",
    "t1=cv2.getTickCount()\n",
    "gaussian_noise(img)\n",
    "t2=cv2.getTickCount()\n",
    "print(\"time(ms) is : %s\"%(t2-t1))\n",
    "#blur(img)\n",
    "\"\"\"medium_blur(img)\n",
    "custom_blur(img)\n",
    "if cv2.waitKey()==27:\n",
    "    cv2.destroyAllWindows() \"\"\"\n",
    "#高斯模糊和均值模糊差不多，但是对随机噪声的去除效果更好\n"
   ]
  },
  {
   "cell_type": "code",
   "execution_count": null,
   "metadata": {},
   "outputs": [],
   "source": []
  },
  {
   "cell_type": "code",
   "execution_count": null,
   "metadata": {},
   "outputs": [],
   "source": []
  },
  {
   "cell_type": "code",
   "execution_count": null,
   "metadata": {},
   "outputs": [],
   "source": []
  }
 ],
 "metadata": {
  "kernelspec": {
   "display_name": "Python 3",
   "language": "python",
   "name": "python3"
  },
  "language_info": {
   "codemirror_mode": {
    "name": "ipython",
    "version": 3
   },
   "file_extension": ".py",
   "mimetype": "text/x-python",
   "name": "python",
   "nbconvert_exporter": "python",
   "pygments_lexer": "ipython3",
   "version": "3.5.5"
  }
 },
 "nbformat": 4,
 "nbformat_minor": 2
}
