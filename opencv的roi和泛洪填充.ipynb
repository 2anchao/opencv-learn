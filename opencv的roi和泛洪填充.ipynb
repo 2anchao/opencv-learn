{
 "cells": [
  {
   "cell_type": "code",
   "execution_count": 2,
   "metadata": {},
   "outputs": [],
   "source": [
    "import cv2\n",
    "import numpy as np"
   ]
  },
  {
   "cell_type": "code",
   "execution_count": 6,
   "metadata": {},
   "outputs": [
    {
     "name": "stdout",
     "output_type": "stream",
     "text": [
      "(733, 514, 3)\n"
     ]
    }
   ],
   "source": [
    "image=cv2.imread(\"girl.jpg\")\n",
    "image2=cv2.imread(\"anchao.jpg\")\n",
    "print(image.shape)\n",
    "def flood_fill_mythod1(scr):\n",
    "    img=scr.copy()\n",
    "    h,w=img.shape[0:2]\n",
    "    mask=np.zeros([h+2,w+2],np.uint8)#这里的+2是为了满足泛洪填充采用的扫描算法的要求\n",
    "    cv2.floodFill(img,mask,(20,25),[0,255,0],[100,100,100],[50,50,50],cv2.FLOODFILL_FIXED_RANGE)#满足起始点的像素选择范围的都会被定义的颜色填充\n",
    "    cv2.imshow(\"flood_fill_img\",img)\n",
    "    cv2.waitKey(0)\n",
    "    cv2.destroyAllWindows()\n",
    "def flood_fill_mythod2(scr):#只在mask区域内进行填充\n",
    "    img=scr.copy()\n",
    "    h,w=img.shape[0:2]\n",
    "    mask=np.ones([h+2,w+2],np.uint8)\n",
    "    mask[101:201,101:201]=0#对mask的这一些操作是因为填充的时候会在mask为0的区域进行填充，在mask为1的区域不会进行填充\n",
    "    cv2.floodFill(img,mask,(150,150),[0,255,255],cv2.FLOODFILL_MASK_ONLY)\n",
    "    cv2.imshow(\"flood_fill_mask\",img)\n",
    "    cv2.waitKey(0)\n",
    "    cv2.destroyAllWindows()\n",
    "def flood_fill_mythod3():#只在mask区域内进行填充\n",
    "    img=np.zeros([300,300,3],np.uint8)\n",
    "    img[100:200,100:200]=255\n",
    "    cv2.imshow(\"design\",img)\n",
    "    h,w=img.shape[0:2]\n",
    "    mask=np.ones([h+2,w+2],np.uint8)\n",
    "    mask[101:201,101:201]=0#对mask的这一些操作是因为填充的时候会在mask为0的区域进行填充，在mask为1的区域不会进行填充\n",
    "    cv2.floodFill(img,mask,(150,150),[0,255,255],cv2.FLOODFILL_MASK_ONLY)\n",
    "    cv2.imshow(\"flood_fill_mask\",img)\n",
    "    cv2.waitKey(0)\n",
    "    cv2.destroyAllWindows()\n",
    "def roi_remove(image,image2):\n",
    "    region=image[100:200,200:300]\n",
    "    roi=cv2.cvtColor(region,cv2.COLOR_RGB2GRAY)\n",
    "    mask=cv2.cvtColor(roi,cv2.COLOR_GRAY2BGR)\n",
    "    region,image2[100:200,200:300]=image2[100:200,200:300],region\n",
    "    cv2.imshow(\"region\",region)\n",
    "    cv2.imshow(\"mask\",mask)\n",
    "    cv2.imshow(\"image2\",image2)\n",
    "    cv2.waitKey(0)\n",
    "    cv2.destroyAllWindows()    \n",
    "\n",
    "    \n",
    "roi_remove(image,image2)"
   ]
  },
  {
   "cell_type": "code",
   "execution_count": null,
   "metadata": {},
   "outputs": [],
   "source": []
  }
 ],
 "metadata": {
  "kernelspec": {
   "display_name": "Python 3",
   "language": "python",
   "name": "python3"
  },
  "language_info": {
   "codemirror_mode": {
    "name": "ipython",
    "version": 3
   },
   "file_extension": ".py",
   "mimetype": "text/x-python",
   "name": "python",
   "nbconvert_exporter": "python",
   "pygments_lexer": "ipython3",
   "version": "3.5.5"
  }
 },
 "nbformat": 4,
 "nbformat_minor": 2
}
