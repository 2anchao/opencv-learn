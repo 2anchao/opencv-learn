{
 "cells": [
  {
   "cell_type": "code",
   "execution_count": 2,
   "metadata": {},
   "outputs": [],
   "source": [
    "import cv2"
   ]
  },
  {
   "cell_type": "code",
   "execution_count": 4,
   "metadata": {},
   "outputs": [],
   "source": [
    "def logic_operate(m1,m2):\n",
    "    img_and=cv2.bitwise_and(m1,m2)\n",
    "    cv2.imshow(\"img_and\",img_and)\n",
    "    img_or=cv2.bitwise_or(m1,m2)\n",
    "    cv2.imshow(\"img_or\",img_or)\n",
    "    img_not=cv2.bitwise_not(m1)#按位取反\n",
    "    cv2.imshow(\"img_not\",img_not)\n",
    "    \n",
    "    \n",
    "    \n",
    "img1=cv2.imread(\"small_girl.jpg\")\n",
    "img2=cv2.imread(\"anchao.jpg\")\n",
    "logic_operate(img1,img2)\n",
    "if cv2.waitKey()==27:\n",
    "    cv2.destroyAllWindows()"
   ]
  },
  {
   "cell_type": "code",
   "execution_count": null,
   "metadata": {},
   "outputs": [],
   "source": []
  }
 ],
 "metadata": {
  "kernelspec": {
   "display_name": "Python 3",
   "language": "python",
   "name": "python3"
  },
  "language_info": {
   "codemirror_mode": {
    "name": "ipython",
    "version": 3
   },
   "file_extension": ".py",
   "mimetype": "text/x-python",
   "name": "python",
   "nbconvert_exporter": "python",
   "pygments_lexer": "ipython3",
   "version": "3.5.5"
  }
 },
 "nbformat": 4,
 "nbformat_minor": 2
}
