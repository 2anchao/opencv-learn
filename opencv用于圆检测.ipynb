{
 "cells": [
  {
   "cell_type": "code",
   "execution_count": 1,
   "metadata": {},
   "outputs": [],
   "source": [
    "import numpy as np\n",
    "import cv2"
   ]
  },
  {
   "cell_type": "code",
   "execution_count": 8,
   "metadata": {},
   "outputs": [],
   "source": [
    "def detect_circles_demo(image):\n",
    "    dst=cv2.pyrMeanShiftFiltering(image,10,100)#epf去噪，还有高斯去噪等等\n",
    "    gray=cv2.cvtColor(dst,cv2.COLOR_BGR2GRAY)\n",
    "    circles=cv2.HoughCircles(gray,cv2.HOUGH_GRADIENT,1,20,param1=100,param2=30)\n",
    "    circles=np.uint16(np.around(circles))\n",
    "    for i in circles[0,:]:\n",
    "        cv2.circle(image,(i[0],i[1]),i[2],(0,0,255),2)\n",
    "        cv2.circle(image,(i[0],i[1]),2,(255,0,0),2)\n",
    "    cv2.imshow(\"detect_circles_demo\",image)\n",
    "\n",
    "img=cv2.imread(\"girl.jpg\")\n",
    "detect_circles_demo(img)\n",
    "if cv2.waitKey()==27:\n",
    "    cv2.destroyAllWindows()\n",
    "        "
   ]
  },
  {
   "cell_type": "code",
   "execution_count": null,
   "metadata": {},
   "outputs": [],
   "source": []
  }
 ],
 "metadata": {
  "kernelspec": {
   "display_name": "Python 3",
   "language": "python",
   "name": "python3"
  },
  "language_info": {
   "codemirror_mode": {
    "name": "ipython",
    "version": 3
   },
   "file_extension": ".py",
   "mimetype": "text/x-python",
   "name": "python",
   "nbconvert_exporter": "python",
   "pygments_lexer": "ipython3",
   "version": "3.5.5"
  }
 },
 "nbformat": 4,
 "nbformat_minor": 2
}
