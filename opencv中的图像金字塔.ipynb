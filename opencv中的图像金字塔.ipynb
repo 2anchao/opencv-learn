{
 "cells": [
  {
   "cell_type": "code",
   "execution_count": 1,
   "metadata": {},
   "outputs": [],
   "source": [
    "import cv2"
   ]
  },
  {
   "cell_type": "code",
   "execution_count": 12,
   "metadata": {},
   "outputs": [
    {
     "name": "stdout",
     "output_type": "stream",
     "text": [
      "(512, 512, 3)\n",
      "i is 2\n",
      "i is 1\n",
      "0\n"
     ]
    }
   ],
   "source": [
    "img=cv2.imread(\"girl.jpg\")\n",
    "image=cv2.resize(img,(512,512))\n",
    "cv2.imshow(\"pyramid_image\"+str(0),image)\n",
    "print(image.shape)\n",
    "def pyramid_demo(image):#高斯金字塔\n",
    "    temp=image.copy()\n",
    "    pyramid_images=[]\n",
    "    for i in range(3):\n",
    "        dst=cv2.pyrDown(temp)\n",
    "        pyramid_images.append(dst)\n",
    "        cv2.imshow(\"pyramid_image\"+str(i+1),dst)\n",
    "        temp=dst.copy()\n",
    "    return pyramid_images\n",
    "\n",
    "#pyramid_demo(img)\n",
    "\n",
    "def lapalians_demo(image):#要求是2的n次方的尺寸大小的图片\n",
    "    pyramid_images=pyramid_demo(image)#lpls这个图是由大变小，在由小变大过程中，相同尺寸相减\n",
    "    length=len(pyramid_images)\n",
    "    for i in range(length-1,-1,-1):#2,1,0\n",
    "        if (i-1)<0:\n",
    "            print(i)\n",
    "            \n",
    "            expend=cv2.pyrUp(pyramid_images[i],dstsize=image.shape[:2])\n",
    "            lpls=cv2.subtract(image,expend)\n",
    "            cv2.imshow(\"lapalians_pyrmaid\"+str(i),lpls)\n",
    "        else:\n",
    "            print(\"i is %s\"%(i))\n",
    "            expend=cv2.pyrUp(pyramid_images[i],dstsize=pyramid_images[i-1].shape[:2])\n",
    "            lpls=cv2.subtract(pyramid_images[i-1],expend)\n",
    "            cv2.imshow(\"lapalians_pyrmaid\"+str(i),lpls)\n",
    "        \n",
    "lapalians_demo(image) \n",
    "if cv2.waitKey()==27:\n",
    "    cv2.destroyAllWindows()"
   ]
  },
  {
   "cell_type": "code",
   "execution_count": null,
   "metadata": {},
   "outputs": [],
   "source": []
  }
 ],
 "metadata": {
  "kernelspec": {
   "display_name": "Python 3",
   "language": "python",
   "name": "python3"
  },
  "language_info": {
   "codemirror_mode": {
    "name": "ipython",
    "version": 3
   },
   "file_extension": ".py",
   "mimetype": "text/x-python",
   "name": "python",
   "nbconvert_exporter": "python",
   "pygments_lexer": "ipython3",
   "version": "3.5.5"
  }
 },
 "nbformat": 4,
 "nbformat_minor": 2
}
